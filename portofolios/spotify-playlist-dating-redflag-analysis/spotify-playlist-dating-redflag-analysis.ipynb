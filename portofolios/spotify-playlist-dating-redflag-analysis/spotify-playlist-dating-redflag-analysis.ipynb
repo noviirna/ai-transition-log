{
 "cells": [
  {
   "cell_type": "code",
   "id": "initial_id",
   "metadata": {
    "collapsed": true
   },
   "source": "# Analyze Potential Dating Redflag by Analyzing Spotify Playlist",
   "outputs": [],
   "execution_count": null
  },
  {
   "metadata": {
    "ExecuteTime": {
     "end_time": "2025-09-19T09:05:23.160257Z",
     "start_time": "2025-09-19T09:05:12.490981Z"
    }
   },
   "cell_type": "code",
   "source": "",
   "id": "475664dd48b22664",
   "outputs": [
    {
     "name": "stdout",
     "output_type": "stream",
     "text": [
      "<class 'Exception'>\n"
     ]
    },
    {
     "data": {
      "text/plain": [
       "'No Result, please try again with a different URL'"
      ]
     },
     "execution_count": 1,
     "metadata": {},
     "output_type": "execute_result"
    }
   ],
   "execution_count": 1
  }
 ],
 "metadata": {
  "kernelspec": {
   "display_name": "Python 3",
   "language": "python",
   "name": "python3"
  },
  "language_info": {
   "codemirror_mode": {
    "name": "ipython",
    "version": 2
   },
   "file_extension": ".py",
   "mimetype": "text/x-python",
   "name": "python",
   "nbconvert_exporter": "python",
   "pygments_lexer": "ipython2",
   "version": "2.7.6"
  }
 },
 "nbformat": 4,
 "nbformat_minor": 5
}
