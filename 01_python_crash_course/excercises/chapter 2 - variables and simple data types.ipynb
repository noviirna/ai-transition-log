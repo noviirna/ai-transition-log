{
 "cells": [
  {
   "metadata": {},
   "cell_type": "markdown",
   "source": [
    "# Variables and Simple Data Types\n",
    "\n",
    "## Introduction\n",
    "These are notes from exploring book Python Crash Course by Eric Matthes, chapter 2\n",
    "\n",
    "### How to name a variable\n",
    "- only letter, number, underscores\n",
    "- start with letter or underscores\n",
    "- avoid python keywords and function names\n",
    "- short but descriptive\n",
    "- be aware I & L, 0 & O are different, sometimes the IDE font can be confusing"
   ],
   "id": "351da2770f33e22"
  },
  {
   "metadata": {},
   "cell_type": "markdown",
   "source": [
    "### Exercise 2.1\n",
    "Simple Message: Store a message in a variable, and then print that message."
   ],
   "id": "43ab1e6c62f3b86e"
  },
  {
   "metadata": {
    "ExecuteTime": {
     "end_time": "2025-08-30T07:49:27.788620Z",
     "start_time": "2025-08-30T07:49:27.766541Z"
    }
   },
   "cell_type": "code",
   "source": [
    "message = \"Halo\"\n",
    "print(message)"
   ],
   "id": "63f49c0a06bab1bd",
   "outputs": [
    {
     "name": "stdout",
     "output_type": "stream",
     "text": [
      "Halo\n"
     ]
    }
   ],
   "execution_count": 37
  },
  {
   "metadata": {},
   "cell_type": "markdown",
   "source": [
    "### Exercise 2.2\n",
    "Simple Messages: Store a message in a variable, and print that message. Then change the value of your variable to a new message, and print the new message."
   ],
   "id": "b2e570d481ded379"
  },
  {
   "metadata": {
    "ExecuteTime": {
     "end_time": "2025-08-30T07:49:27.812166Z",
     "start_time": "2025-08-30T07:49:27.788620Z"
    }
   },
   "cell_type": "code",
   "source": [
    "message = \"Halo\"\n",
    "message = message + message.upper()\n",
    "print(message)"
   ],
   "id": "4527d17a6aed6843",
   "outputs": [
    {
     "name": "stdout",
     "output_type": "stream",
     "text": [
      "HaloHALO\n"
     ]
    }
   ],
   "execution_count": 38
  },
  {
   "metadata": {},
   "cell_type": "markdown",
   "source": [
    "### String\n",
    "- We can concantenate (combining) string using + or built in python function\n",
    "- Adding whitespace / tabs (\\t) / new lines (\\m) using character combination\n",
    "- we can manipulate the string using built in python function, for example for stripping whitespaces we can use `.rstrip()` for variable that has datatype String"
   ],
   "id": "63a4898f37e23fa"
  },
  {
   "metadata": {},
   "cell_type": "markdown",
   "source": [
    "### Exercise 2.3\n",
    "Store a person’s name in a variable, and print a message\n",
    "to that person. Your message should be simple, such as, “Hello Eric, would you like to learn some Python today?”"
   ],
   "id": "b3222e6943a33abd"
  },
  {
   "metadata": {
    "ExecuteTime": {
     "end_time": "2025-08-30T07:49:27.854442Z",
     "start_time": "2025-08-30T07:49:27.839984Z"
    }
   },
   "cell_type": "code",
   "source": [
    "person_name = \"John\"\n",
    "print(\"Hello \" + person_name + \", would you like to learn some Python today?\")"
   ],
   "id": "3eca32aa0b65a4c4",
   "outputs": [
    {
     "name": "stdout",
     "output_type": "stream",
     "text": [
      "Hello John, would you like to learn some Python today?\n"
     ]
    }
   ],
   "execution_count": 39
  },
  {
   "metadata": {},
   "cell_type": "markdown",
   "source": [
    "### Exercise 2.4\n",
    "Store a person’s name in a variable, and then print that person’s name in lowercase, uppercase, and titlecase."
   ],
   "id": "6b9dbd1fee493289"
  },
  {
   "metadata": {
    "ExecuteTime": {
     "end_time": "2025-08-30T07:49:27.886314Z",
     "start_time": "2025-08-30T07:49:27.876295Z"
    }
   },
   "cell_type": "code",
   "source": [
    "person_name = \"John\"\n",
    "print(\"lowercase: \" + person_name.lower())\n",
    "print(\"UPPERCASE: \" + person_name.upper())\n",
    "print(\"Titlecase: \" + person_name.capitalize())"
   ],
   "id": "ee3fc9f5865f5bb4",
   "outputs": [
    {
     "name": "stdout",
     "output_type": "stream",
     "text": [
      "lowercase: john\n",
      "UPPERCASE: JOHN\n",
      "Titlecase: John\n"
     ]
    }
   ],
   "execution_count": 40
  },
  {
   "metadata": {},
   "cell_type": "markdown",
   "source": [
    "### Exercise 2.5\n",
    "Find a quote from a famous person you admire. Print the\n",
    "quote and the name of its author. Your output should look something like the following, including the quotation marks:\n",
    "```\n",
    "Albert Einstein once said, “A person who never made a\n",
    "mistake never tried anything new.”\n",
    "```"
   ],
   "id": "716499f105df01dd"
  },
  {
   "metadata": {
    "ExecuteTime": {
     "end_time": "2025-08-30T07:49:27.917257Z",
     "start_time": "2025-08-30T07:49:27.899253Z"
    }
   },
   "cell_type": "code",
   "source": [
    "quote = \"Nikola Tesla said, \\\"You may live to see man-made horrors beyond your comprehension.\\\"\"\n",
    "print(quote)"
   ],
   "id": "3dd503ccb5224014",
   "outputs": [
    {
     "name": "stdout",
     "output_type": "stream",
     "text": [
      "Nikola Tesla said, \"You may live to see man-made horrors beyond your comprehension.\"\n"
     ]
    }
   ],
   "execution_count": 41
  },
  {
   "metadata": {},
   "cell_type": "markdown",
   "source": [
    "### Exercise 2.6\n",
    "Repeat Exercise 2-5, but this time store the famous person’s\n",
    "name in a variable called famous_person. Then compose your message\n",
    "and store it in a new variable called message. Print your message."
   ],
   "id": "f9913e8eac4b7d52"
  },
  {
   "metadata": {
    "ExecuteTime": {
     "end_time": "2025-08-30T07:49:27.948724Z",
     "start_time": "2025-08-30T07:49:27.928155Z"
    }
   },
   "cell_type": "code",
   "source": [
    "author = \"Nikola Tesla\"\n",
    "quote = \"You may live to see man-made horrors beyond your comprehension.\"\n",
    "print(author + \" said, \\\"\" + quote + \"\\\"\")"
   ],
   "id": "b5b964c16979c079",
   "outputs": [
    {
     "name": "stdout",
     "output_type": "stream",
     "text": [
      "Nikola Tesla said, \"You may live to see man-made horrors beyond your comprehension.\"\n"
     ]
    }
   ],
   "execution_count": 42
  },
  {
   "metadata": {},
   "cell_type": "markdown",
   "source": [
    "### Exercise 2.7\n",
    "Store a person’s name, and include some whitespace\n",
    "characters at the beginning and end of the name. Make sure you use each character combination, \"\\t\" and \"\\n\", at least once.\n",
    "Print the name once, so the whitespace around the name is displayed.\n",
    "Then print the name using each of the three stripping functions, lstrip(), rstrip(), and strip()."
   ],
   "id": "81a08b9b27c11398"
  },
  {
   "metadata": {
    "ExecuteTime": {
     "end_time": "2025-08-30T07:49:27.964177Z",
     "start_time": "2025-08-30T07:49:27.957701Z"
    }
   },
   "cell_type": "code",
   "source": [
    "person_name = \" \\tJohn Parsons\\n\"\n",
    "print(\"# original\")\n",
    "print(person_name)\n",
    "print(\"# left strip\")\n",
    "print(person_name.lstrip())\n",
    "print(\"# right strip\")\n",
    "print(person_name.rstrip())\n",
    "print(\"# strip\")\n",
    "print(person_name.strip())\n",
    "print(\"# end\")"
   ],
   "id": "4a200572855a492d",
   "outputs": [
    {
     "name": "stdout",
     "output_type": "stream",
     "text": [
      "# original\n",
      " \tJohn Parsons\n",
      "\n",
      "# left strip\n",
      "John Parsons\n",
      "\n",
      "# right strip\n",
      " \tJohn Parsons\n",
      "# strip\n",
      "John Parsons\n",
      "# end\n"
     ]
    }
   ],
   "execution_count": 43
  },
  {
   "metadata": {},
   "cell_type": "markdown",
   "source": [
    "### Numeric\n",
    "- There are several Simple numeric type in Python, Integers ad Floats\n",
    "- Integers are the real number\n",
    "- Floats are number with decimal point\n",
    "- oftentimes you'll use a numeric variable value within a message, to avoid error, you can wrap the integer value to string, to avoid python not sure to intepret the value\n",
    "```python\n",
    "# code below will cause error once run\n",
    "age = 23\n",
    "message = \"Happy \" + age + \"rd Birthday!\"\n",
    "print(message)\n",
    "```\n",
    "```python\n",
    "# to solve the error above, you can wrap the variable age with `str` function\n",
    "age = 23\n",
    "message = \"Happy \" + str(age) + \"rd Birthday!\"\n",
    "print(message)\n",
    "```\n",
    "\n",
    "### Exercise 2.8\n",
    "Write addition, subtraction, multiplication, and division\n",
    "operations that each result in the number 8. Be sure to enclose your operations in print statements to see the results. You should create four lines that look like this:\n",
    "```python\n",
    "print(5 + 3)\n",
    "```\n",
    "Your output should simply be four lines with the number 8 appearing once on each line."
   ],
   "id": "bc3ac764915b87d7"
  },
  {
   "metadata": {
    "ExecuteTime": {
     "end_time": "2025-08-30T07:49:27.994740Z",
     "start_time": "2025-08-30T07:49:27.975653Z"
    }
   },
   "cell_type": "code",
   "source": [
    "print(1+7)\n",
    "print(2*4)\n",
    "print(int(40/5))\n",
    "print(90-82)"
   ],
   "id": "2fc0c05fb30c0bc2",
   "outputs": [
    {
     "name": "stdout",
     "output_type": "stream",
     "text": [
      "8\n",
      "8\n",
      "8\n",
      "8\n"
     ]
    }
   ],
   "execution_count": 44
  },
  {
   "metadata": {},
   "cell_type": "markdown",
   "source": [
    "### Exercise 2.9\n",
    "Store your favorite number in a variable. Then, using\n",
    "that variable, create a message that reveals your favorite number. Print that message."
   ],
   "id": "ca801c0b7baccf14"
  },
  {
   "metadata": {
    "ExecuteTime": {
     "end_time": "2025-08-30T07:49:28.010584Z",
     "start_time": "2025-08-30T07:49:28.004575Z"
    }
   },
   "cell_type": "code",
   "source": [
    "my_num = 11\n",
    "\n",
    "print(\"This is my number \"+ str(my_num))"
   ],
   "id": "ec9b24cde4283815",
   "outputs": [
    {
     "name": "stdout",
     "output_type": "stream",
     "text": [
      "This is my number 11\n"
     ]
    }
   ],
   "execution_count": 45
  },
  {
   "metadata": {},
   "cell_type": "markdown",
   "source": [
    "### Comments\n",
    "- to add comment on python you can use #\n",
    "- it is suggested that you should write meaningful comments\n",
    "\n",
    "### Exercise 2.10\n",
    "Choose two of the programs you’ve written, and add at least one comment to each. If you don’t have anything specific to write because your programs are too simple at this point, just add your name and the current date at the top of each program file. Then write one sentence describing what the program does."
   ],
   "id": "8834e89cdb3f40c9"
  },
  {
   "metadata": {
    "ExecuteTime": {
     "end_time": "2025-08-30T07:49:28.040481Z",
     "start_time": "2025-08-30T07:49:28.025621Z"
    }
   },
   "cell_type": "code",
   "source": [
    "# code below is demonstrate numeric calculation with result printed number 8\n",
    "print(1+7)\n",
    "print(2*4)\n",
    "print(int(40/5))\n",
    "print(90-82)"
   ],
   "id": "252d0bd1cd5fe6be",
   "outputs": [
    {
     "name": "stdout",
     "output_type": "stream",
     "text": [
      "8\n",
      "8\n",
      "8\n",
      "8\n"
     ]
    }
   ],
   "execution_count": 46
  },
  {
   "metadata": {},
   "cell_type": "markdown",
   "source": [
    "### The Zen of Python\n",
    "\n",
    "### Exercise 2.11\n",
    "Enter `import this` into a Python terminal session and skim through the additional principles."
   ],
   "id": "ec390223e66ce48c"
  },
  {
   "metadata": {
    "ExecuteTime": {
     "end_time": "2025-08-30T07:51:01.898240Z",
     "start_time": "2025-08-30T07:51:01.871964Z"
    }
   },
   "cell_type": "code",
   "source": "import this",
   "id": "6d9536d74608cb0a",
   "outputs": [
    {
     "name": "stdout",
     "output_type": "stream",
     "text": [
      "The Zen of Python, by Tim Peters\n",
      "\n",
      "Beautiful is better than ugly.\n",
      "Explicit is better than implicit.\n",
      "Simple is better than complex.\n",
      "Complex is better than complicated.\n",
      "Flat is better than nested.\n",
      "Sparse is better than dense.\n",
      "Readability counts.\n",
      "Special cases aren't special enough to break the rules.\n",
      "Although practicality beats purity.\n",
      "Errors should never pass silently.\n",
      "Unless explicitly silenced.\n",
      "In the face of ambiguity, refuse the temptation to guess.\n",
      "There should be one-- and preferably only one --obvious way to do it.\n",
      "Although that way may not be obvious at first unless you're Dutch.\n",
      "Now is better than never.\n",
      "Although never is often better than *right* now.\n",
      "If the implementation is hard to explain, it's a bad idea.\n",
      "If the implementation is easy to explain, it may be a good idea.\n",
      "Namespaces are one honking great idea -- let's do more of those!\n"
     ]
    }
   ],
   "execution_count": 1
  }
 ],
 "metadata": {
  "kernelspec": {
   "display_name": "Python 3",
   "language": "python",
   "name": "python3"
  },
  "language_info": {
   "codemirror_mode": {
    "name": "ipython",
    "version": 2
   },
   "file_extension": ".py",
   "mimetype": "text/x-python",
   "name": "python",
   "nbconvert_exporter": "python",
   "pygments_lexer": "ipython2",
   "version": "2.7.6"
  }
 },
 "nbformat": 4,
 "nbformat_minor": 5
}
